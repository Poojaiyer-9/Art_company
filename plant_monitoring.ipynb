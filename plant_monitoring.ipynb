{
  "cells": [
    {
      "cell_type": "markdown",
      "metadata": {
        "id": "JkUhHyy78EuM"
      },
      "source": [
        "# Install Roboflow"
      ]
    },
    {
      "cell_type": "code",
      "execution_count": null,
      "metadata": {
        "colab": {
          "base_uri": "https://localhost:8080/",
          "height": 1000
        },
        "id": "dTFFvEEF48-y",
        "outputId": "dbfd4dde-0790-4c0c-e204-5c7e0b5c0b01"
      },
      "outputs": [],
      "source": []
    },
    {
      "cell_type": "code",
      "execution_count": null,
      "metadata": {},
      "outputs": [],
      "source": [
        "# Calculate Plant Height"
      ]
    },
    {
      "cell_type": "code",
      "execution_count": 1,
      "metadata": {
        "colab": {
          "base_uri": "https://localhost:8080/"
        },
        "id": "0K-tOxH94_6y",
        "outputId": "6d7f3914-f480-4962-cb5e-0990f4eadedc"
      },
      "outputs": [
        {
          "name": "stdout",
          "output_type": "stream",
          "text": [
            "loading Roboflow workspace...\n",
            "loading Roboflow project...\n",
            "{'predictions': [{'x': 428, 'y': 294, 'width': 280, 'height': 395, 'confidence': 0.9443135857582092, 'class': 'plant', 'class_id': 0, 'detection_id': 'd0a1d4de-9590-4f87-8673-5ca4b63765c1', 'image_path': 'C:\\\\\\\\Users\\\\\\\\Hp\\\\\\\\OneDrive\\\\\\\\Desktop\\\\\\\\ai mini project\\\\\\\\50.jpg', 'prediction_type': 'ObjectDetectionModel'}, {'x': 86, 'y': 450, 'width': 26, 'height': 137, 'confidence': 0.8782252073287964, 'class': 'ref_obj', 'class_id': 1, 'detection_id': 'a31ae88d-613b-4e86-ae84-84247f207126', 'image_path': 'C:\\\\\\\\Users\\\\\\\\Hp\\\\\\\\OneDrive\\\\\\\\Desktop\\\\\\\\ai mini project\\\\\\\\50.jpg', 'prediction_type': 'ObjectDetectionModel'}], 'image': {'width': '800', 'height': '800'}}\n",
            "Predictions saved to C:\\\\Users\\\\Hp\\\\OneDrive\\\\Desktop\\\\ai mini project\\\\detection.json\n"
          ]
        }
      ],
      "source": [
        "from roboflow import Roboflow\n",
        "import json\n",
        "\n",
        "rf = Roboflow(api_key=\"RSGG44QeVJORVds2nba6\")\n",
        "project = rf.workspace(\"index\").project(\"plantmo\")\n",
        "model = project.version(1).model\n",
        "\n",
        "# infer on a local image\n",
        "print(model.predict(r\"C:\\\\Users\\\\Hp\\\\OneDrive\\\\Desktop\\\\ai mini project\\\\50.jpg\", confidence=80, overlap=50).json())\n",
        "predictions_json = model.predict(r\"50.jpg\", confidence=40, overlap=30).json()\n",
        "#C:\\Users\\Hp\\OneDrive\\Desktop\\ai mini project\\plant_monitoring.ipynb\n",
        "output_json_path =r\"C:\\\\Users\\\\Hp\\\\OneDrive\\\\Desktop\\\\ai mini project\\\\detection.json\"\n",
        "\n",
        "# Save the predictions to a JSON file\n",
        "with open(output_json_path, 'w') as json_file:\n",
        "    json.dump(predictions_json, json_file, indent=2)\n",
        "\n",
        "print(f\"Predictions saved to {output_json_path}\")"
      ]
    },
    {
      "cell_type": "code",
      "execution_count": null,
      "metadata": {},
      "outputs": [],
      "source": [
        "# Infer and Generate JSON File"
      ]
    },
    {
      "cell_type": "code",
      "execution_count": 1,
      "metadata": {},
      "outputs": [
        {
          "name": "stdout",
          "output_type": "stream",
          "text": [
            "Annotated image saved to C:\\Users\\Hp\\OneDrive\\Desktop\\ai mini project\\50 output annotated.jpg\n"
          ]
        }
      ],
      "source": [
        "# Final Code\n",
        "import json\n",
        "import cv2\n",
        "import numpy as np\n",
        "\n",
        "def calculate_pixel_height(bbox):\n",
        "    return bbox['height']\n",
        "\n",
        "def establish_conversion_factor(reference_height, reference_pixel_height):\n",
        "    return reference_height / reference_pixel_height\n",
        "\n",
        "def process_object_detection_results(json_path, image_path, output_path):\n",
        "    # Load the JSON results\n",
        "    with open(json_path, 'r') as file:\n",
        "        detection_results = json.load(file)\n",
        "\n",
        "    # Extract bounding box information for the reference object and the plant\n",
        "    reference_bbox = next(item for item in detection_results['predictions'] if item['class'] == 'ref_obj')\n",
        "    plant_bbox = next(item for item in detection_results['predictions'] if item['class'] == 'plant')\n",
        "\n",
        "    # Calculate pixel height of the reference object\n",
        "    reference_pixel_height = calculate_pixel_height(reference_bbox)\n",
        "\n",
        "    # Known height of the reference object in inches\n",
        "    reference_height_inches = 6\n",
        "\n",
        "    # Establish pixel-to-inch conversion factor\n",
        "    conversion_factor = establish_conversion_factor(reference_height_inches, reference_pixel_height)\n",
        "\n",
        "    # Calculate the actual height of the plant in inches\n",
        "    plant_pixel_height = calculate_pixel_height(plant_bbox)\n",
        "    plant_height_inches = plant_pixel_height * conversion_factor\n",
        "\n",
        "    # Load the original image\n",
        "    image = cv2.imread(image_path)\n",
        "\n",
        "    # Draw bounding boxes and labels on the image\n",
        "    xr = reference_bbox['x'] - (reference_bbox['width']/2);\n",
        "    yr = reference_bbox['y'] - (reference_bbox['height']/2)\n",
        "    reference_box = [\n",
        "\n",
        "        round(xr),\n",
        "        round(yr),\n",
        "        round(xr + reference_bbox['width']),\n",
        "        round(yr + reference_bbox['height'])\n",
        "    ]\n",
        "\n",
        "    xp = plant_bbox['x'] - (plant_bbox['width']/2);\n",
        "    yp = plant_bbox['y'] - (plant_bbox['height']/2);\n",
        "    plant_box = [\n",
        "        round(xp),\n",
        "        round(yp),\n",
        "        round(xp + plant_bbox['width']),\n",
        "        round(yp + plant_bbox['height'])\n",
        "    ]\n",
        "\n",
        "    # Draw reference object bounding box in green\n",
        "    cv2.rectangle(image, (reference_box[0], reference_box[1]), (reference_box[2], reference_box[3]), (0, 255, 0), 2)\n",
        "\n",
        "    # Draw plant bounding box in red\n",
        "    cv2.rectangle(image, (plant_box[0], plant_box[1]), (plant_box[2], plant_box[3]), (0, 0, 255), 2)\n",
        "\n",
        "    # Display labels\n",
        "    font = cv2.FONT_HERSHEY_SIMPLEX\n",
        "    label_y_offset = 20\n",
        "    cv2.putText(image, f\"Reference Object Height: {reference_height_inches} inches\", (reference_box[0], reference_box[1] - label_y_offset),\n",
        "                font, 0.5, (0, 255, 0), 2, cv2.LINE_AA)\n",
        "\n",
        "    cv2.putText(image, f\"Plant Height: {plant_height_inches:.2f} inches\", (plant_box[0], plant_box[1] - label_y_offset),\n",
        "                font, 0.5, (0, 0, 255), 2, cv2.LINE_AA)\n",
        "\n",
        "    # Save the annotated image\n",
        "    cv2.imwrite(output_path, image)\n",
        "    print(f\"Annotated image saved to {output_path}\")\n",
        "\n",
        "# Specify the path to your JSON file, the original image, and the output image\n",
        "json_path = \"C:\\\\Users\\\\Hp\\\\OneDrive\\\\Desktop\\\\ai mini project\\\\detection.json\"\n",
        "image_path = \"C:\\\\Users\\\\Hp\\\\OneDrive\\\\Desktop\\\\ai mini project\\\\50.jpg\"\n",
        "output_image_path =\"C:\\\\Users\\\\Hp\\\\OneDrive\\\\Desktop\\\\ai mini project\\\\50 output annotated.jpg\" \n",
        "\n",
        "# Call the function to process object detection results, calculate heights, and save annotated image\n",
        "process_object_detection_results(json_path, image_path, output_image_path)\n"
      ]
    }
  ],
  "metadata": {
    "colab": {
      "provenance": []
    },
    "kernelspec": {
      "display_name": "Python 3",
      "name": "python3"
    },
    "language_info": {
      "codemirror_mode": {
        "name": "ipython",
        "version": 3
      },
      "file_extension": ".py",
      "mimetype": "text/x-python",
      "name": "python",
      "nbconvert_exporter": "python",
      "pygments_lexer": "ipython3",
      "version": "3.13.0"
    }
  },
  "nbformat": 4,
  "nbformat_minor": 0
}
